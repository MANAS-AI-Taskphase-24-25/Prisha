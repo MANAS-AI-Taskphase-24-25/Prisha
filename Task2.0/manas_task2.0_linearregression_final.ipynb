{
 "cells": [
  {
   "cell_type": "code",
   "execution_count": 1,
   "id": "752eb746",
   "metadata": {},
   "outputs": [],
   "source": [
    "import pandas as pd\n",
    "import numpy as np\n",
    "import matplotlib.pyplot as plt\n",
    "import seaborn as sns"
   ]
  },
  {
   "cell_type": "code",
   "execution_count": 2,
   "id": "42c0d08e",
   "metadata": {},
   "outputs": [],
   "source": [
    "trainData = pd.read_csv(\"D:\\\\prisha_manipal_sp\\\\manas\\\\Train.csv\")\n",
    "testData = pd.read_csv(\"D:\\\\prisha_manipal_sp\\\\manas\\\\Test.csv\")"
   ]
  },
  {
   "cell_type": "code",
   "execution_count": 3,
   "id": "a4b657af",
   "metadata": {
    "scrolled": true
   },
   "outputs": [
    {
     "name": "stdout",
     "output_type": "stream",
     "text": [
      "<class 'pandas.core.frame.DataFrame'>\n",
      "RangeIndex: 3750 entries, 0 to 3749\n",
      "Data columns (total 13 columns):\n",
      " #   Column             Non-Null Count  Dtype  \n",
      "---  ------             --------------  -----  \n",
      " 0   Unnamed: 0         3750 non-null   int64  \n",
      " 1   Name               3750 non-null   object \n",
      " 2   Location           3750 non-null   object \n",
      " 3   Year               3750 non-null   int64  \n",
      " 4   Kilometers_Driven  3750 non-null   int64  \n",
      " 5   Fuel_Type          3750 non-null   object \n",
      " 6   Transmission       3750 non-null   object \n",
      " 7   Owner_Type         3750 non-null   object \n",
      " 8   Mileage            3749 non-null   object \n",
      " 9   Engine             3722 non-null   object \n",
      " 10  Power              3722 non-null   object \n",
      " 11  Seats              3718 non-null   float64\n",
      " 12  Price              3750 non-null   float64\n",
      "dtypes: float64(2), int64(3), object(8)\n",
      "memory usage: 381.0+ KB\n",
      "None\n",
      "<class 'pandas.core.frame.DataFrame'>\n",
      "RangeIndex: 1250 entries, 0 to 1249\n",
      "Data columns (total 13 columns):\n",
      " #   Column             Non-Null Count  Dtype  \n",
      "---  ------             --------------  -----  \n",
      " 0   Unnamed: 0         1250 non-null   int64  \n",
      " 1   Name               1250 non-null   object \n",
      " 2   Location           1250 non-null   object \n",
      " 3   Year               1250 non-null   int64  \n",
      " 4   Kilometers_Driven  1250 non-null   int64  \n",
      " 5   Fuel_Type          1250 non-null   object \n",
      " 6   Transmission       1250 non-null   object \n",
      " 7   Owner_Type         1250 non-null   object \n",
      " 8   Mileage            1249 non-null   object \n",
      " 9   Engine             1244 non-null   object \n",
      " 10  Power              1244 non-null   object \n",
      " 11  Seats              1243 non-null   float64\n",
      " 12  Price              1250 non-null   float64\n",
      "dtypes: float64(2), int64(3), object(8)\n",
      "memory usage: 127.1+ KB\n",
      "None\n"
     ]
    }
   ],
   "source": [
    "print(trainData.info())\n",
    "print(testData.info())"
   ]
  },
  {
   "cell_type": "code",
   "execution_count": null,
   "id": "08377da0",
   "metadata": {},
   "outputs": [],
   "source": [
    "# pre processing the data"
   ]
  },
  {
   "cell_type": "code",
   "execution_count": 4,
   "id": "f29bc698",
   "metadata": {},
   "outputs": [],
   "source": [
    "trainData.drop(['Unnamed: 0', 'Name', 'Location'], axis=1, inplace=True)"
   ]
  },
  {
   "cell_type": "code",
   "execution_count": 5,
   "id": "45fede90",
   "metadata": {},
   "outputs": [],
   "source": [
    "numeric_columns = [\"Mileage\", \"Engine\", \"Power\"]\n",
    "for col in numeric_columns:\n",
    "    trainData[col] = trainData[col].fillna(\"0\").astype(str).str.extract(r\"([0-9]*\\.?[0-9]+)\").astype(float)"
   ]
  },
  {
   "cell_type": "code",
   "execution_count": 6,
   "id": "0d55cab6",
   "metadata": {},
   "outputs": [],
   "source": [
    "for col in numeric_columns + ['Seats']:\n",
    "    trainData[col].fillna(trainData[col].median(), inplace=True)"
   ]
  },
  {
   "cell_type": "code",
   "execution_count": 7,
   "id": "52f1ad56",
   "metadata": {},
   "outputs": [],
   "source": [
    "trainData['Price'].fillna(trainData['Price'].median(), inplace=True)"
   ]
  },
  {
   "cell_type": "code",
   "execution_count": 8,
   "id": "3b678978",
   "metadata": {},
   "outputs": [],
   "source": [
    "categorical_columns = [\"Fuel_Type\", \"Transmission\", \"Owner_Type\"]\n",
    "trainData = pd.get_dummies(trainData, columns=categorical_columns, drop_first=True)"
   ]
  },
  {
   "cell_type": "code",
   "execution_count": 9,
   "id": "7ed95a80",
   "metadata": {},
   "outputs": [],
   "source": [
    "X = trainData.drop(columns=['Price'], axis=1).values  # Features\n",
    "y = trainData['Price'].values.reshape(-1, 1)          # Target"
   ]
  },
  {
   "cell_type": "code",
   "execution_count": null,
   "id": "a2c5e7bd",
   "metadata": {},
   "outputs": [],
   "source": [
    "# defining standardizing function"
   ]
  },
  {
   "cell_type": "code",
   "execution_count": 10,
   "id": "5abf876e",
   "metadata": {},
   "outputs": [],
   "source": [
    "def standardize_features(X):\n",
    "    mean = np.mean(X, axis=0)\n",
    "    std = np.std(X, axis=0)\n",
    "    std[std == 0] = 1  # Avoid division by zero\n",
    "    X_standardized = (X - mean) / std\n",
    "    return X_standardized, mean, std\n",
    "\n",
    "X, X_mean, X_std = standardize_features(X)\n",
    "\n",
    "# Add the intercept term\n",
    "X = np.c_[np.ones(X.shape[0]), X]  "
   ]
  },
  {
   "cell_type": "code",
   "execution_count": 11,
   "id": "02ef1ae8",
   "metadata": {},
   "outputs": [],
   "source": [
    "theta = np.zeros((X.shape[1], 1))  # Initialize theta with zeros\n",
    "learning_rate = 0.001\n",
    "iterations = 1000"
   ]
  },
  {
   "cell_type": "code",
   "execution_count": null,
   "id": "33d83e50",
   "metadata": {},
   "outputs": [],
   "source": [
    "# defining cost computing function"
   ]
  },
  {
   "cell_type": "code",
   "execution_count": 12,
   "id": "5c5b86b6",
   "metadata": {},
   "outputs": [],
   "source": [
    "def compute_cost(X, y, theta):\n",
    "    m = len(y)\n",
    "    predictions = X.dot(theta)\n",
    "    cost = (1 / (2 * m)) * np.sum((predictions - y) ** 2)\n",
    "    return cost"
   ]
  },
  {
   "cell_type": "code",
   "execution_count": null,
   "id": "35bbb913",
   "metadata": {},
   "outputs": [],
   "source": [
    "# defining gradient descent algorithm"
   ]
  },
  {
   "cell_type": "code",
   "execution_count": 53,
   "id": "70c3e415",
   "metadata": {},
   "outputs": [],
   "source": [
    "def gradient_descent(X, y, theta, learning_rate, iterations):\n",
    "    m = len(y)\n",
    "    cost_history = []\n",
    "\n",
    "    for i in range(iterations):\n",
    "        gradients = (1 / m) * X.T.dot(X.dot(theta) - y)\n",
    "        theta -= learning_rate * gradients\n",
    "        cost_history.append(compute_cost(X, y, theta))\n",
    "    \n",
    "    return theta, cost_history"
   ]
  },
  {
   "cell_type": "code",
   "execution_count": 14,
   "id": "6654bd46",
   "metadata": {},
   "outputs": [],
   "source": [
    "theta, cost_history = gradient_descent(X, y, theta, learning_rate, iterations)\n"
   ]
  },
  {
   "cell_type": "code",
   "execution_count": null,
   "id": "4420b596",
   "metadata": {},
   "outputs": [],
   "source": [
    "# applying algorithm to predict car values"
   ]
  },
  {
   "cell_type": "code",
   "execution_count": 15,
   "id": "b92237e8",
   "metadata": {},
   "outputs": [],
   "source": [
    "y_pred_train = X.dot(theta)"
   ]
  },
  {
   "cell_type": "code",
   "execution_count": 17,
   "id": "f9236cb2",
   "metadata": {},
   "outputs": [
    {
     "name": "stdout",
     "output_type": "stream",
     "text": [
      "training MSE: 56.35798248341282\n",
      "training RMSE: 7.507195380660664\n",
      "training R2: 0.5512259443219896\n"
     ]
    }
   ],
   "source": [
    "mse_train = np.mean((y - y_pred_train) ** 2)\n",
    "rmse_train = np.sqrt(mse_train)\n",
    "\n",
    "ss_total = np.sum((y - np.mean(y)) ** 2)\n",
    "ss_residual = np.sum((y - y_pred_train) ** 2)\n",
    "r2_train = 1 - (ss_residual / ss_total)\n",
    "\n",
    "print(f\"training MSE: {mse_train}\")\n",
    "print(f\"training RMSE: {rmse_train}\")\n",
    "print(f\"training R2: {r2_train}\")"
   ]
  },
  {
   "cell_type": "code",
   "execution_count": 18,
   "id": "a394a622",
   "metadata": {},
   "outputs": [
    {
     "data": {
      "image/png": "[encoded data removed]",
      "text/plain": [
       "<Figure size 640x480 with 1 Axes>"
      ]
     },
     "metadata": {},
     "output_type": "display_data"
    }
   ],
   "source": [
    "plt.plot(range(len(cost_history)), cost_history)\n",
    "plt.xlabel('Iterations')\n",
    "plt.ylabel('Cost')\n",
    "plt.title('Cost Function Convergence')\n",
    "plt.show()"
   ]
  },
  {
   "cell_type": "code",
   "execution_count": null,
   "id": "e518eb59",
   "metadata": {},
   "outputs": [],
   "source": [
    "# applying "
   ]
  },
  {
   "cell_type": "code",
   "execution_count": 35,
   "id": "7be2d482",
   "metadata": {},
   "outputs": [],
   "source": [
    "testData = pd.read_csv(\"D:\\\\prisha_manipal_sp\\\\manas\\\\Test.csv\")"
   ]
  },
  {
   "cell_type": "code",
   "execution_count": 36,
   "id": "0eec57d7",
   "metadata": {},
   "outputs": [],
   "source": [
    "testData.drop(['Unnamed: 0', 'Name', 'Location'], axis=1, inplace=True)\n",
    "y_test = testData['Price'].values"
   ]
  },
  {
   "cell_type": "code",
   "execution_count": 37,
   "id": "d87acc31",
   "metadata": {},
   "outputs": [],
   "source": [
    "for col in numeric_columns:  \n",
    "    testData[col] = testData[col].fillna(\"0\").astype(str).str.extract(r\"([0-9]*\\.?[0-9]+)\").astype(float)"
   ]
  },
  {
   "cell_type": "code",
   "execution_count": 38,
   "id": "09ce21b1",
   "metadata": {},
   "outputs": [],
   "source": [
    "for col in numeric_columns + ['Seats']:\n",
    "    testData[col].fillna(testData[col].median(), inplace=True)"
   ]
  },
  {
   "cell_type": "code",
   "execution_count": 39,
   "id": "40721d76",
   "metadata": {},
   "outputs": [],
   "source": [
    "testData = pd.get_dummies(testData, columns=categorical_columns, drop_first=True)"
   ]
  },
  {
   "cell_type": "code",
   "execution_count": 40,
   "id": "1824bc92",
   "metadata": {},
   "outputs": [],
   "source": [
    "testData = testData[trainData.drop(columns=['Price']).columns]"
   ]
  },
  {
   "cell_type": "code",
   "execution_count": 41,
   "id": "8b6bc359",
   "metadata": {},
   "outputs": [],
   "source": [
    "X_test = testData.values\n",
    "X_test = (X_test - X_mean) / X_std\n",
    "X_test = np.c_[np.ones(X_test.shape[0]), X_test]  "
   ]
  },
  {
   "cell_type": "code",
   "execution_count": 42,
   "id": "b5ff9134",
   "metadata": {},
   "outputs": [],
   "source": [
    "y_pred_test = X_test.dot(theta)"
   ]
  },
  {
   "cell_type": "code",
   "execution_count": 51,
   "id": "6a4c2fa8",
   "metadata": {},
   "outputs": [
    {
     "name": "stdout",
     "output_type": "stream",
     "text": [
      "MSE Error: 213.0849300255349\n"
     ]
    }
   ],
   "source": [
    "mse = np.mean((y_test - y_pred_test) ** 2)\n",
    "print(f\"MSE Error: {mse}\")"
   ]
  },
  {
   "cell_type": "code",
   "execution_count": 52,
   "id": "2d9f515b",
   "metadata": {},
   "outputs": [
    {
     "name": "stdout",
     "output_type": "stream",
     "text": [
      "RMSE Error: 14.597428884071842\n"
     ]
    }
   ],
   "source": [
    "rmse = np.sqrt(mse)\n",
    "print(f\"RMSE Error: {rmse}\")"
   ]
  },
  {
   "cell_type": "code",
   "execution_count": 48,
   "id": "20d18974",
   "metadata": {},
   "outputs": [
    {
     "name": "stdout",
     "output_type": "stream",
     "text": [
      "r-squared Score: -2147.4028874964993\n"
     ]
    }
   ],
   "source": [
    "ss_total = np.sum((y_test - np.mean(y_test)) ** 2)  # total sum of squares\n",
    "ss_residual = np.sum((y_test - y_pred_test) ** 2)  # residual sum of squares\n",
    "r_squared = 1 - (ss_residual / ss_total)\n",
    "print(f\"r-squared Score: {r_squared}\")"
   ]
  },
  {
   "cell_type": "code",
   "execution_count": 47,
   "id": "e6af4032",
   "metadata": {},
   "outputs": [
    {
     "data": {
      "image/png": "[encoded data removed]",
      "text/plain": [
       "<Figure size 1000x600 with 1 Axes>"
      ]
     },
     "metadata": {},
     "output_type": "display_data"
    }
   ],
   "source": [
    "import matplotlib.pyplot as plt\n",
    "\n",
    "plt.figure(figsize=(10, 6))\n",
    "plt.scatter(y_test, y_pred_test, alpha=0.6, color='blue')\n",
    "plt.plot([min(y_test), max(y_test)], [min(y_test), max(y_test)], color='red', linestyle='--')\n",
    "plt.xlabel(\"Actual Values\")\n",
    "plt.ylabel(\"Predicted Values\")\n",
    "plt.title(\"Actual vs Predicted Values\")\n",
    "plt.show()"
   ]
  },
  {
   "cell_type": "code",
   "execution_count": null,
   "id": "d119944a",
   "metadata": {},
   "outputs": [],
   "source": []
  }
 ],
 "metadata": {
  "kernelspec": {
   "display_name": "Python 3 (ipykernel)",
   "language": "python",
   "name": "python3"
  },
  "language_info": {
   "codemirror_mode": {
    "name": "ipython",
    "version": 3
   },
   "file_extension": ".py",
   "mimetype": "text/x-python",
   "name": "python",
   "nbconvert_exporter": "python",
   "pygments_lexer": "ipython3",
   "version": "3.11.6"
  }
 },
 "nbformat": 4,
 "nbformat_minor": 5
}
